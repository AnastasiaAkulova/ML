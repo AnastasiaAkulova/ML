{
 "cells": [
  {
   "cell_type": "code",
   "execution_count": 181,
   "metadata": {},
   "outputs": [],
   "source": [
    "import pandas as pd\n",
    "import numpy as np\n",
    "import math\n",
    "import matplotlib.pyplot as plt\n",
    "import seaborn as sns\n",
    "from sklearn.preprocessing import LabelEncoder, MinMaxScaler\n",
    "from sklearn.model_selection import train_test_split, RandomizedSearchCV\n",
    "from sklearn.linear_model import LogisticRegression\n",
    "from sklearn.metrics import accuracy_score, confusion_matrix, ConfusionMatrixDisplay\n",
    "from sklearn.svm import SVC\n",
    "from sklearn.tree import DecisionTreeClassifier, export_text\n",
    "from operator import itemgetter\n",
    "from IPython.core.display import HTML\n"
   ]
  },
  {
   "cell_type": "code",
   "execution_count": 182,
   "metadata": {},
   "outputs": [
    {
     "data": {
      "text/html": [
       "<div>\n",
       "<style scoped>\n",
       "    .dataframe tbody tr th:only-of-type {\n",
       "        vertical-align: middle;\n",
       "    }\n",
       "\n",
       "    .dataframe tbody tr th {\n",
       "        vertical-align: top;\n",
       "    }\n",
       "\n",
       "    .dataframe thead th {\n",
       "        text-align: right;\n",
       "    }\n",
       "</style>\n",
       "<table border=\"1\" class=\"dataframe\">\n",
       "  <thead>\n",
       "    <tr style=\"text-align: right;\">\n",
       "      <th></th>\n",
       "      <th>date</th>\n",
       "      <th>precipitation</th>\n",
       "      <th>temp_max</th>\n",
       "      <th>temp_min</th>\n",
       "      <th>wind</th>\n",
       "      <th>weather</th>\n",
       "    </tr>\n",
       "  </thead>\n",
       "  <tbody>\n",
       "    <tr>\n",
       "      <th>0</th>\n",
       "      <td>2012-01-01</td>\n",
       "      <td>0.0</td>\n",
       "      <td>12.8</td>\n",
       "      <td>5.0</td>\n",
       "      <td>4.7</td>\n",
       "      <td>drizzle</td>\n",
       "    </tr>\n",
       "    <tr>\n",
       "      <th>1</th>\n",
       "      <td>2012-01-02</td>\n",
       "      <td>10.9</td>\n",
       "      <td>10.6</td>\n",
       "      <td>2.8</td>\n",
       "      <td>4.5</td>\n",
       "      <td>rain</td>\n",
       "    </tr>\n",
       "    <tr>\n",
       "      <th>2</th>\n",
       "      <td>2012-01-03</td>\n",
       "      <td>0.8</td>\n",
       "      <td>11.7</td>\n",
       "      <td>7.2</td>\n",
       "      <td>2.3</td>\n",
       "      <td>rain</td>\n",
       "    </tr>\n",
       "    <tr>\n",
       "      <th>3</th>\n",
       "      <td>2012-01-04</td>\n",
       "      <td>20.3</td>\n",
       "      <td>12.2</td>\n",
       "      <td>5.6</td>\n",
       "      <td>4.7</td>\n",
       "      <td>rain</td>\n",
       "    </tr>\n",
       "    <tr>\n",
       "      <th>4</th>\n",
       "      <td>2012-01-05</td>\n",
       "      <td>1.3</td>\n",
       "      <td>8.9</td>\n",
       "      <td>2.8</td>\n",
       "      <td>6.1</td>\n",
       "      <td>rain</td>\n",
       "    </tr>\n",
       "  </tbody>\n",
       "</table>\n",
       "</div>"
      ],
      "text/plain": [
       "         date  precipitation  temp_max  temp_min  wind  weather\n",
       "0  2012-01-01            0.0      12.8       5.0   4.7  drizzle\n",
       "1  2012-01-02           10.9      10.6       2.8   4.5     rain\n",
       "2  2012-01-03            0.8      11.7       7.2   2.3     rain\n",
       "3  2012-01-04           20.3      12.2       5.6   4.7     rain\n",
       "4  2012-01-05            1.3       8.9       2.8   6.1     rain"
      ]
     },
     "execution_count": 182,
     "metadata": {},
     "output_type": "execute_result"
    }
   ],
   "source": [
    "# Берем датасет, будем предсказывать погоду\n",
    "data = pd.read_csv('seattle-weather.csv')\n",
    "data.head()"
   ]
  },
  {
   "cell_type": "code",
   "execution_count": 183,
   "metadata": {},
   "outputs": [
    {
     "data": {
      "text/plain": [
       "['drizzle', 'fog', 'rain', 'snow', 'sun']"
      ]
     },
     "execution_count": 183,
     "metadata": {},
     "output_type": "execute_result"
    }
   ],
   "source": [
    "#Узнаем все уникальные явления погоды\n",
    "TARGET_LABELS = sorted(data['weather'].unique())\n",
    "TARGET_LABELS"
   ]
  },
  {
   "cell_type": "code",
   "execution_count": 184,
   "metadata": {},
   "outputs": [
    {
     "data": {
      "text/html": [
       "<div>\n",
       "<style scoped>\n",
       "    .dataframe tbody tr th:only-of-type {\n",
       "        vertical-align: middle;\n",
       "    }\n",
       "\n",
       "    .dataframe tbody tr th {\n",
       "        vertical-align: top;\n",
       "    }\n",
       "\n",
       "    .dataframe thead th {\n",
       "        text-align: right;\n",
       "    }\n",
       "</style>\n",
       "<table border=\"1\" class=\"dataframe\">\n",
       "  <thead>\n",
       "    <tr style=\"text-align: right;\">\n",
       "      <th></th>\n",
       "      <th>precipitation</th>\n",
       "      <th>temp_max</th>\n",
       "      <th>temp_min</th>\n",
       "      <th>wind</th>\n",
       "      <th>weather</th>\n",
       "    </tr>\n",
       "  </thead>\n",
       "  <tbody>\n",
       "    <tr>\n",
       "      <th>0</th>\n",
       "      <td>0.000000</td>\n",
       "      <td>0.387097</td>\n",
       "      <td>0.476378</td>\n",
       "      <td>0.472527</td>\n",
       "      <td>0</td>\n",
       "    </tr>\n",
       "    <tr>\n",
       "      <th>1</th>\n",
       "      <td>0.194991</td>\n",
       "      <td>0.327957</td>\n",
       "      <td>0.389764</td>\n",
       "      <td>0.450549</td>\n",
       "      <td>2</td>\n",
       "    </tr>\n",
       "    <tr>\n",
       "      <th>2</th>\n",
       "      <td>0.014311</td>\n",
       "      <td>0.357527</td>\n",
       "      <td>0.562992</td>\n",
       "      <td>0.208791</td>\n",
       "      <td>2</td>\n",
       "    </tr>\n",
       "    <tr>\n",
       "      <th>3</th>\n",
       "      <td>0.363148</td>\n",
       "      <td>0.370968</td>\n",
       "      <td>0.500000</td>\n",
       "      <td>0.472527</td>\n",
       "      <td>2</td>\n",
       "    </tr>\n",
       "    <tr>\n",
       "      <th>4</th>\n",
       "      <td>0.023256</td>\n",
       "      <td>0.282258</td>\n",
       "      <td>0.389764</td>\n",
       "      <td>0.626374</td>\n",
       "      <td>2</td>\n",
       "    </tr>\n",
       "  </tbody>\n",
       "</table>\n",
       "</div>"
      ],
      "text/plain": [
       "   precipitation  temp_max  temp_min      wind  weather\n",
       "0       0.000000  0.387097  0.476378  0.472527        0\n",
       "1       0.194991  0.327957  0.389764  0.450549        2\n",
       "2       0.014311  0.357527  0.562992  0.208791        2\n",
       "3       0.363148  0.370968  0.500000  0.472527        2\n",
       "4       0.023256  0.282258  0.389764  0.626374        2"
      ]
     },
     "execution_count": 184,
     "metadata": {},
     "output_type": "execute_result"
    }
   ],
   "source": [
    "#Возьмем признаки, по которым будем предсказывать погоду, и поставим их значения в промежутке от 0 до 1\n",
    "le = LabelEncoder()\n",
    "mms = MinMaxScaler()\n",
    "data['precipitation'] = mms.fit_transform(data[['precipitation']])\n",
    "data['temp_max'] = mms.fit_transform(data[['temp_max']])\n",
    "data['temp_min'] = mms.fit_transform(data[['temp_min']])\n",
    "data['wind'] = mms.fit_transform(data[['wind']])\n",
    "data['weather'] = le.fit_transform(data['weather'])\n",
    "data = data.drop(columns=['date'])\n",
    "data.head()"
   ]
  },
  {
   "cell_type": "code",
   "execution_count": 185,
   "metadata": {},
   "outputs": [],
   "source": [
    "#Сделаем тестовые значения\n",
    "TARGET_KEY = 'weather'\n",
    "X_data, y_data = data.drop(columns=[TARGET_KEY]), data[[TARGET_KEY]]\n",
    "X_test, X_train, y_test, y_train = train_test_split(X_data, y_data)"
   ]
  },
  {
   "cell_type": "code",
   "execution_count": 186,
   "metadata": {},
   "outputs": [],
   "source": [
    "# Задает шаблон таблиц точности\n",
    "def class_accuracy_score(y_true: pd.DataFrame, y_pred: np.ndarray):\n",
    "    unique, counts = np.unique(y_true[TARGET_KEY], return_counts=True)\n",
    "    y_true_values = y_true[TARGET_KEY].values\n",
    "    result = {}\n",
    "    for value in unique:\n",
    "        result[value] = 0\n",
    "    for index in range(len(y_true_values)):\n",
    "        if y_true_values[index] == y_pred[index]:\n",
    "            result[y_true_values[index]] += 1\n",
    "    for index in range(len(unique)):\n",
    "        result[unique[index]] /= counts[index]\n",
    "    result['all'] = accuracy_score(y_true, y_pred)\n",
    "    return result"
   ]
  },
  {
   "cell_type": "code",
   "execution_count": 187,
   "metadata": {},
   "outputs": [
    {
     "name": "stderr",
     "output_type": "stream",
     "text": [
      "c:\\Users\\miss-\\AppData\\Local\\Programs\\Python\\Python310\\lib\\site-packages\\sklearn\\utils\\validation.py:1143: DataConversionWarning: A column-vector y was passed when a 1d array was expected. Please change the shape of y to (n_samples, ), for example using ravel().\n",
      "  y = column_or_1d(y, warn=True)\n"
     ]
    }
   ],
   "source": [
    "#Метод логистической регрессии\n",
    "lr = LogisticRegression(random_state=0)\n",
    "lr.fit(X_train, y_train)\n",
    "y_pred_lr = lr.predict(X_test)"
   ]
  },
  {
   "cell_type": "code",
   "execution_count": 188,
   "metadata": {},
   "outputs": [
    {
     "name": "stderr",
     "output_type": "stream",
     "text": [
      "c:\\Users\\miss-\\AppData\\Local\\Programs\\Python\\Python310\\lib\\site-packages\\sklearn\\utils\\validation.py:1143: DataConversionWarning: A column-vector y was passed when a 1d array was expected. Please change the shape of y to (n_samples, ), for example using ravel().\n",
      "  y = column_or_1d(y, warn=True)\n"
     ]
    }
   ],
   "source": [
    "# Векторный метод\n",
    "svm = SVC(kernel='linear', random_state=0)\n",
    "svm.fit(X_train, y_train)\n",
    "y_pred_svm = svm.predict(X_test)"
   ]
  },
  {
   "cell_type": "code",
   "execution_count": 189,
   "metadata": {},
   "outputs": [],
   "source": [
    "# Метод дерева решений\n",
    "dt = DecisionTreeClassifier(random_state=0)\n",
    "dt.fit(X_train, y_train)\n",
    "y_pred_dt = dt.predict(X_test)"
   ]
  },
  {
   "cell_type": "code",
   "execution_count": null,
   "metadata": {},
   "outputs": [],
   "source": [
    "#Покажем с помощью таблиц точности на сколько точно предсказанны данные"
   ]
  },
  {
   "cell_type": "code",
   "execution_count": 190,
   "metadata": {},
   "outputs": [
    {
     "data": {
      "text/html": [
       "<div>\n",
       "<style scoped>\n",
       "    .dataframe tbody tr th:only-of-type {\n",
       "        vertical-align: middle;\n",
       "    }\n",
       "\n",
       "    .dataframe tbody tr th {\n",
       "        vertical-align: top;\n",
       "    }\n",
       "\n",
       "    .dataframe thead th {\n",
       "        text-align: right;\n",
       "    }\n",
       "</style>\n",
       "<table border=\"1\" class=\"dataframe\">\n",
       "  <thead>\n",
       "    <tr style=\"text-align: right;\">\n",
       "      <th></th>\n",
       "      <th>accuracy</th>\n",
       "    </tr>\n",
       "  </thead>\n",
       "  <tbody>\n",
       "    <tr>\n",
       "      <th>0</th>\n",
       "      <td>0.000000</td>\n",
       "    </tr>\n",
       "    <tr>\n",
       "      <th>1</th>\n",
       "      <td>0.000000</td>\n",
       "    </tr>\n",
       "    <tr>\n",
       "      <th>2</th>\n",
       "      <td>0.798780</td>\n",
       "    </tr>\n",
       "    <tr>\n",
       "      <th>3</th>\n",
       "      <td>0.000000</td>\n",
       "    </tr>\n",
       "    <tr>\n",
       "      <th>4</th>\n",
       "      <td>0.819533</td>\n",
       "    </tr>\n",
       "    <tr>\n",
       "      <th>all</th>\n",
       "      <td>0.711416</td>\n",
       "    </tr>\n",
       "  </tbody>\n",
       "</table>\n",
       "</div>"
      ],
      "text/plain": [
       "     accuracy\n",
       "0    0.000000\n",
       "1    0.000000\n",
       "2    0.798780\n",
       "3    0.000000\n",
       "4    0.819533\n",
       "all  0.711416"
      ]
     },
     "execution_count": 190,
     "metadata": {},
     "output_type": "execute_result"
    }
   ],
   "source": [
    "#Выведем данные, которые покажет первый метод\n",
    "lr_accuracy_scores = class_accuracy_score(y_test, y_pred_lr)\n",
    "pd.DataFrame.from_dict(lr_accuracy_scores, orient='index', columns=['accuracy'])"
   ]
  },
  {
   "cell_type": "code",
   "execution_count": 191,
   "metadata": {},
   "outputs": [
    {
     "data": {
      "text/html": [
       "<div>\n",
       "<style scoped>\n",
       "    .dataframe tbody tr th:only-of-type {\n",
       "        vertical-align: middle;\n",
       "    }\n",
       "\n",
       "    .dataframe tbody tr th {\n",
       "        vertical-align: top;\n",
       "    }\n",
       "\n",
       "    .dataframe thead th {\n",
       "        text-align: right;\n",
       "    }\n",
       "</style>\n",
       "<table border=\"1\" class=\"dataframe\">\n",
       "  <thead>\n",
       "    <tr style=\"text-align: right;\">\n",
       "      <th></th>\n",
       "      <th>accuracy</th>\n",
       "    </tr>\n",
       "  </thead>\n",
       "  <tbody>\n",
       "    <tr>\n",
       "      <th>0</th>\n",
       "      <td>0.000000</td>\n",
       "    </tr>\n",
       "    <tr>\n",
       "      <th>1</th>\n",
       "      <td>0.000000</td>\n",
       "    </tr>\n",
       "    <tr>\n",
       "      <th>2</th>\n",
       "      <td>0.798780</td>\n",
       "    </tr>\n",
       "    <tr>\n",
       "      <th>3</th>\n",
       "      <td>0.000000</td>\n",
       "    </tr>\n",
       "    <tr>\n",
       "      <th>4</th>\n",
       "      <td>0.828025</td>\n",
       "    </tr>\n",
       "    <tr>\n",
       "      <th>all</th>\n",
       "      <td>0.715068</td>\n",
       "    </tr>\n",
       "  </tbody>\n",
       "</table>\n",
       "</div>"
      ],
      "text/plain": [
       "     accuracy\n",
       "0    0.000000\n",
       "1    0.000000\n",
       "2    0.798780\n",
       "3    0.000000\n",
       "4    0.828025\n",
       "all  0.715068"
      ]
     },
     "execution_count": 191,
     "metadata": {},
     "output_type": "execute_result"
    }
   ],
   "source": [
    "#Выведем данные, которые покажет второй метод\n",
    "svm_accuracy_scores = class_accuracy_score(y_test, y_pred_svm)\n",
    "pd.DataFrame.from_dict(svm_accuracy_scores, orient='index', columns=['accuracy'])"
   ]
  },
  {
   "cell_type": "code",
   "execution_count": 192,
   "metadata": {},
   "outputs": [
    {
     "data": {
      "text/html": [
       "<div>\n",
       "<style scoped>\n",
       "    .dataframe tbody tr th:only-of-type {\n",
       "        vertical-align: middle;\n",
       "    }\n",
       "\n",
       "    .dataframe tbody tr th {\n",
       "        vertical-align: top;\n",
       "    }\n",
       "\n",
       "    .dataframe thead th {\n",
       "        text-align: right;\n",
       "    }\n",
       "</style>\n",
       "<table border=\"1\" class=\"dataframe\">\n",
       "  <thead>\n",
       "    <tr style=\"text-align: right;\">\n",
       "      <th></th>\n",
       "      <th>accuracy</th>\n",
       "    </tr>\n",
       "  </thead>\n",
       "  <tbody>\n",
       "    <tr>\n",
       "      <th>0</th>\n",
       "      <td>0.125000</td>\n",
       "    </tr>\n",
       "    <tr>\n",
       "      <th>1</th>\n",
       "      <td>0.120000</td>\n",
       "    </tr>\n",
       "    <tr>\n",
       "      <th>2</th>\n",
       "      <td>0.908537</td>\n",
       "    </tr>\n",
       "    <tr>\n",
       "      <th>3</th>\n",
       "      <td>0.588235</td>\n",
       "    </tr>\n",
       "    <tr>\n",
       "      <th>4</th>\n",
       "      <td>0.732484</td>\n",
       "    </tr>\n",
       "    <tr>\n",
       "      <th>all</th>\n",
       "      <td>0.745205</td>\n",
       "    </tr>\n",
       "  </tbody>\n",
       "</table>\n",
       "</div>"
      ],
      "text/plain": [
       "     accuracy\n",
       "0    0.125000\n",
       "1    0.120000\n",
       "2    0.908537\n",
       "3    0.588235\n",
       "4    0.732484\n",
       "all  0.745205"
      ]
     },
     "execution_count": 192,
     "metadata": {},
     "output_type": "execute_result"
    }
   ],
   "source": [
    "#Выведем данные, которые покажет третий метод\n",
    "dt_accuracy_scores = class_accuracy_score(y_test, y_pred_dt)\n",
    "pd.DataFrame.from_dict(dt_accuracy_scores, orient='index', columns=['accuracy'])"
   ]
  },
  {
   "cell_type": "code",
   "execution_count": null,
   "metadata": {},
   "outputs": [],
   "source": [
    "#Покажем с помощью матриц на сколько точно предсказанны данные"
   ]
  },
  {
   "cell_type": "code",
   "execution_count": 193,
   "metadata": {},
   "outputs": [
    {
     "data": {
      "text/plain": [
       "<sklearn.metrics._plot.confusion_matrix.ConfusionMatrixDisplay at 0x2132e895cc0>"
      ]
     },
     "execution_count": 193,
     "metadata": {},
     "output_type": "execute_result"
    },
    {
     "data": {
      "image/png": "[encoded data removed]",
      "text/plain": [
       "<Figure size 640x480 with 2 Axes>"
      ]
     },
     "metadata": {},
     "output_type": "display_data"
    }
   ],
   "source": [
    "#Выведем данные, которые покажет первый метод\n",
    "lr_confusion_matrix = confusion_matrix(y_test, y_pred_lr)\n",
    "ConfusionMatrixDisplay.from_predictions(y_test, y_pred_lr)"
   ]
  },
  {
   "cell_type": "code",
   "execution_count": 194,
   "metadata": {},
   "outputs": [
    {
     "data": {
      "text/plain": [
       "<sklearn.metrics._plot.confusion_matrix.ConfusionMatrixDisplay at 0x21330348160>"
      ]
     },
     "execution_count": 194,
     "metadata": {},
     "output_type": "execute_result"
    },
    {
     "data": {
      "image/png": "[encoded data removed]",
      "text/plain": [
       "<Figure size 640x480 with 2 Axes>"
      ]
     },
     "metadata": {},
     "output_type": "display_data"
    }
   ],
   "source": [
    "#Выведем данные, которые покажет второй метод\n",
    "svm_confusion_matrix = confusion_matrix(y_test, y_pred_svm)\n",
    "ConfusionMatrixDisplay.from_predictions(y_test, y_pred_svm)"
   ]
  },
  {
   "cell_type": "code",
   "execution_count": 195,
   "metadata": {},
   "outputs": [
    {
     "data": {
      "text/plain": [
       "<sklearn.metrics._plot.confusion_matrix.ConfusionMatrixDisplay at 0x2132ed47cd0>"
      ]
     },
     "execution_count": 195,
     "metadata": {},
     "output_type": "execute_result"
    },
    {
     "data": {
      "image/png": "[encoded data removed]",
      "text/plain": [
       "<Figure size 640x480 with 2 Axes>"
      ]
     },
     "metadata": {},
     "output_type": "display_data"
    }
   ],
   "source": [
    "#Выведем данные, которые покажет третий метод\n",
    "dt_confusion_matrix = confusion_matrix(y_test, y_pred_dt)\n",
    "ConfusionMatrixDisplay.from_predictions(y_test, y_pred_dt)"
   ]
  },
  {
   "cell_type": "code",
   "execution_count": 196,
   "metadata": {},
   "outputs": [],
   "source": [
    "#Вывод важности признаков в виде графика\n",
    "def draw_feature_importances(tree_model, X_dataset, figsize=(18,5)):\n",
    "    # Сортировка значений важности признаков по убыванию\n",
    "    list_to_sort = list(zip(X_dataset.columns.values, tree_model.feature_importances_))\n",
    "    sorted_list = sorted(list_to_sort, key=itemgetter(1), reverse = True)\n",
    "    # Названия признаков\n",
    "    labels = [x for x,_ in sorted_list]\n",
    "    # Важности признаков\n",
    "    data = [x for _,x in sorted_list]\n",
    "    # Вывод графика\n",
    "    fig, ax = plt.subplots(figsize=figsize)\n",
    "    ind = np.arange(len(labels))\n",
    "    plt.bar(ind, data)\n",
    "    plt.xticks(ind, labels, rotation='vertical')\n",
    "    # Вывод значений\n",
    "    for a,b in zip(ind, data):\n",
    "        plt.text(a-0.05, b+0.01, str(round(b,3)))\n",
    "    plt.show()\n",
    "    return labels, data"
   ]
  },
  {
   "cell_type": "code",
   "execution_count": 197,
   "metadata": {},
   "outputs": [
    {
     "data": {
      "image/png": "[encoded data removed]",
      "text/plain": [
       "<Figure size 1800x500 with 1 Axes>"
      ]
     },
     "metadata": {},
     "output_type": "display_data"
    },
    {
     "data": {
      "text/plain": [
       "(['precipitation', 'temp_min', 'wind', 'temp_max'],\n",
       " [0.5733017237402966,\n",
       "  0.18890669840450483,\n",
       "  0.12255669953777323,\n",
       "  0.11523487831742535])"
      ]
     },
     "execution_count": 197,
     "metadata": {},
     "output_type": "execute_result"
    }
   ],
   "source": [
    "draw_feature_importances(dt, X_test)"
   ]
  },
  {
   "cell_type": "code",
   "execution_count": 198,
   "metadata": {},
   "outputs": [
    {
     "data": {
      "text/html": [
       "<pre>|--- precipitation <= 0.00\n",
       "|   |--- temp_max <= 0.51\n",
       "|   |   |--- wind <= 0.45\n",
       "|   |   |   |--- temp_min <= 0.60\n",
       "|   |   |   |   |--- temp_min <= 0.15\n",
       "|   |   |   |   |   |--- class: 0\n",
       "|   |   |   |   |--- temp_min >  0.15\n",
       "|   |   |   |   |   |--- wind <= 0.30\n",
       "|   |   |   |   |   |   |--- wind <= 0.27\n",
       "|   |   |   |   |   |   |   |--- wind <= 0.23\n",
       "|   |   |   |   |   |   |   |   |--- temp_max <= 0.38\n",
       "|   |   |   |   |   |   |   |   |   |--- temp_min <= 0.38\n",
       "|   |   |   |   |   |   |   |   |   |   |--- wind <= 0.06\n",
       "|   |   |   |   |   |   |   |   |   |   |   |--- truncated branch of depth 2\n",
       "|   |   |   |   |   |   |   |   |   |   |--- wind >  0.06\n",
       "|   |   |   |   |   |   |   |   |   |   |   |--- truncated branch of depth 3\n",
       "|   |   |   |   |   |   |   |   |   |--- temp_min >  0.38\n",
       "|   |   |   |   |   |   |   |   |   |   |--- temp_min <= 0.55\n",
       "|   |   |   |   |   |   |   |   |   |   |   |--- truncated branch of depth 4\n",
       "|   |   |   |   |   |   |   |   |   |   |--- temp_min >  0.55\n",
       "|   |   |   |   |   |   |   |   |   |   |   |--- class: 4\n",
       "|   |   |   |   |   |   |   |   |--- temp_max >  0.38\n",
       "|   |   |   |   |   |   |   |   |   |--- class: 4\n",
       "|   |   |   |   |   |   |   |--- wind >  0.23\n",
       "|   |   |   |   |   |   |   |   |--- temp_min <= 0.26\n",
       "|   |   |   |   |   |   |   |   |   |--- class: 4\n",
       "|   |   |   |   |   |   |   |   |--- temp_min >  0.26\n",
       "|   |   |   |   |   |   |   |   |   |--- temp_max <= 0.26\n",
       "|   |   |   |   |   |   |   |   |   |   |--- class: 1\n",
       "|   |   |   |   |   |   |   |   |   |--- temp_max >  0.26\n",
       "|   |   |   |   |   |   |   |   |   |   |--- temp_max <= 0.42\n",
       "|   |   |   |   |   |   |   |   |   |   |   |--- class: 4\n",
       "|   |   |   |   |   |   |   |   |   |   |--- temp_max >  0.42\n",
       "|   |   |   |   |   |   |   |   |   |   |   |--- truncated branch of depth 2\n",
       "|   |   |   |   |   |   |--- wind >  0.27\n",
       "|   |   |   |   |   |   |   |--- temp_min <= 0.47\n",
       "|   |   |   |   |   |   |   |   |--- class: 4\n",
       "|   |   |   |   |   |   |   |--- temp_min >  0.47\n",
       "|   |   |   |   |   |   |   |   |--- class: 2\n",
       "|   |   |   |   |   |--- wind >  0.30\n",
       "|   |   |   |   |   |   |--- wind <= 0.39\n",
       "|   |   |   |   |   |   |   |--- class: 4\n",
       "|   |   |   |   |   |   |--- wind >  0.39\n",
       "|   |   |   |   |   |   |   |--- wind <= 0.41\n",
       "|   |   |   |   |   |   |   |   |--- class: 0\n",
       "|   |   |   |   |   |   |   |--- wind >  0.41\n",
       "|   |   |   |   |   |   |   |   |--- temp_min <= 0.50\n",
       "|   |   |   |   |   |   |   |   |   |--- class: 4\n",
       "|   |   |   |   |   |   |   |   |--- temp_min >  0.50\n",
       "|   |   |   |   |   |   |   |   |   |--- temp_max <= 0.43\n",
       "|   |   |   |   |   |   |   |   |   |   |--- class: 0\n",
       "|   |   |   |   |   |   |   |   |   |--- temp_max >  0.43\n",
       "|   |   |   |   |   |   |   |   |   |   |--- class: 4\n",
       "|   |   |   |--- temp_min >  0.60\n",
       "|   |   |   |   |--- wind <= 0.26\n",
       "|   |   |   |   |   |--- temp_max <= 0.39\n",
       "|   |   |   |   |   |   |--- class: 0\n",
       "|   |   |   |   |   |--- temp_max >  0.39\n",
       "|   |   |   |   |   |   |--- temp_min <= 0.73\n",
       "|   |   |   |   |   |   |   |--- wind <= 0.21\n",
       "|   |   |   |   |   |   |   |   |--- temp_min <= 0.62\n",
       "|   |   |   |   |   |   |   |   |   |--- class: 1\n",
       "|   |   |   |   |   |   |   |   |--- temp_min >  0.62\n",
       "|   |   |   |   |   |   |   |   |   |--- class: 4\n",
       "|   |   |   |   |   |   |   |--- wind >  0.21\n",
       "|   |   |   |   |   |   |   |   |--- temp_min <= 0.62\n",
       "|   |   |   |   |   |   |   |   |   |--- class: 0\n",
       "|   |   |   |   |   |   |   |   |--- temp_min >  0.62\n",
       "|   |   |   |   |   |   |   |   |   |--- class: 1\n",
       "|   |   |   |   |   |   |--- temp_min >  0.73\n",
       "|   |   |   |   |   |   |   |--- class: 0\n",
       "|   |   |   |   |--- wind >  0.26\n",
       "|   |   |   |   |   |--- temp_max <= 0.45\n",
       "|   |   |   |   |   |   |--- class: 1\n",
       "|   |   |   |   |   |--- temp_max >  0.45\n",
       "|   |   |   |   |   |   |--- wind <= 0.30\n",
       "|   |   |   |   |   |   |   |--- class: 4\n",
       "|   |   |   |   |   |   |--- wind >  0.30\n",
       "|   |   |   |   |   |   |   |--- temp_max <= 0.50\n",
       "|   |   |   |   |   |   |   |   |--- class: 4\n",
       "|   |   |   |   |   |   |   |--- temp_max >  0.50\n",
       "|   |   |   |   |   |   |   |   |--- class: 2\n",
       "|   |   |--- wind >  0.45\n",
       "|   |   |   |--- wind <= 0.55\n",
       "|   |   |   |   |--- temp_max <= 0.48\n",
       "|   |   |   |   |   |--- wind <= 0.52\n",
       "|   |   |   |   |   |   |--- class: 1\n",
       "|   |   |   |   |   |--- wind >  0.52\n",
       "|   |   |   |   |   |   |--- temp_max <= 0.38\n",
       "|   |   |   |   |   |   |   |--- class: 1\n",
       "|   |   |   |   |   |   |--- temp_max >  0.38\n",
       "|   |   |   |   |   |   |   |--- class: 4\n",
       "|   |   |   |   |--- temp_max >  0.48\n",
       "|   |   |   |   |   |--- class: 2\n",
       "|   |   |   |--- wind >  0.55\n",
       "|   |   |   |   |--- class: 2\n",
       "|   |--- temp_max >  0.51\n",
       "|   |   |--- wind <= 0.24\n",
       "|   |   |   |--- temp_min <= 0.86\n",
       "|   |   |   |   |--- temp_min <= 0.75\n",
       "|   |   |   |   |   |--- temp_max <= 0.68\n",
       "|   |   |   |   |   |   |--- class: 4\n",
       "|   |   |   |   |   |--- temp_max >  0.68\n",
       "|   |   |   |   |   |   |--- temp_max <= 0.72\n",
       "|   |   |   |   |   |   |   |--- wind <= 0.18\n",
       "|   |   |   |   |   |   |   |   |--- class: 0\n",
       "|   |   |   |   |   |   |   |--- wind >  0.18\n",
       "|   |   |   |   |   |   |   |   |--- class: 4\n",
       "|   |   |   |   |   |   |--- temp_max >  0.72\n",
       "|   |   |   |   |   |   |   |--- class: 4\n",
       "|   |   |   |   |--- temp_min >  0.75\n",
       "|   |   |   |   |   |--- wind <= 0.14\n",
       "|   |   |   |   |   |   |--- class: 1\n",
       "|   |   |   |   |   |--- wind >  0.14\n",
       "|   |   |   |   |   |   |--- temp_min <= 0.79\n",
       "|   |   |   |   |   |   |   |--- temp_max <= 0.79\n",
       "|   |   |   |   |   |   |   |   |--- temp_min <= 0.77\n",
       "|   |   |   |   |   |   |   |   |   |--- class: 0\n",
       "|   |   |   |   |   |   |   |   |--- temp_min >  0.77\n",
       "|   |   |   |   |   |   |   |   |   |--- temp_max <= 0.74\n",
       "|   |   |   |   |   |   |   |   |   |   |--- class: 0\n",
       "|   |   |   |   |   |   |   |   |   |--- temp_max >  0.74\n",
       "|   |   |   |   |   |   |   |   |   |   |--- class: 4\n",
       "|   |   |   |   |   |   |   |--- temp_max >  0.79\n",
       "|   |   |   |   |   |   |   |   |--- class: 1\n",
       "|   |   |   |   |   |   |--- temp_min >  0.79\n",
       "|   |   |   |   |   |   |   |--- temp_max <= 0.74\n",
       "|   |   |   |   |   |   |   |   |--- wind <= 0.21\n",
       "|   |   |   |   |   |   |   |   |   |--- temp_max <= 0.66\n",
       "|   |   |   |   |   |   |   |   |   |   |--- class: 4\n",
       "|   |   |   |   |   |   |   |   |   |--- temp_max >  0.66\n",
       "|   |   |   |   |   |   |   |   |   |   |--- class: 0\n",
       "|   |   |   |   |   |   |   |   |--- wind >  0.21\n",
       "|   |   |   |   |   |   |   |   |   |--- wind <= 0.23\n",
       "|   |   |   |   |   |   |   |   |   |   |--- class: 1\n",
       "|   |   |   |   |   |   |   |   |   |--- wind >  0.23\n",
       "|   |   |   |   |   |   |   |   |   |   |--- temp_max <= 0.67\n",
       "|   |   |   |   |   |   |   |   |   |   |   |--- class: 4\n",
       "|   |   |   |   |   |   |   |   |   |   |--- temp_max >  0.67\n",
       "|   |   |   |   |   |   |   |   |   |   |   |--- class: 1\n",
       "|   |   |   |   |   |   |   |--- temp_max >  0.74\n",
       "|   |   |   |   |   |   |   |   |--- wind <= 0.17\n",
       "|   |   |   |   |   |   |   |   |   |--- class: 0\n",
       "|   |   |   |   |   |   |   |   |--- wind >  0.17\n",
       "|   |   |   |   |   |   |   |   |   |--- class: 4\n",
       "|   |   |   |--- temp_min >  0.86\n",
       "|   |   |   |   |--- class: 4\n",
       "|   |   |--- wind >  0.24\n",
       "|   |   |   |--- temp_min <= 0.51\n",
       "|   |   |   |   |--- wind <= 0.37\n",
       "|   |   |   |   |   |--- class: 4\n",
       "|   |   |   |   |--- wind >  0.37\n",
       "|   |   |   |   |   |--- class: 0\n",
       "|   |   |   |--- temp_min >  0.51\n",
       "|   |   |   |   |--- temp_min <= 0.84\n",
       "|   |   |   |   |   |--- class: 4\n",
       "|   |   |   |   |--- temp_min >  0.84\n",
       "|   |   |   |   |   |--- temp_min <= 0.86\n",
       "|   |   |   |   |   |   |--- temp_max <= 0.77\n",
       "|   |   |   |   |   |   |   |--- temp_max <= 0.67\n",
       "|   |   |   |   |   |   |   |   |--- class: 4\n",
       "|   |   |   |   |   |   |   |--- temp_max >  0.67\n",
       "|   |   |   |   |   |   |   |   |--- class: 1\n",
       "|   |   |   |   |   |   |--- temp_max >  0.77\n",
       "|   |   |   |   |   |   |   |--- class: 4\n",
       "|   |   |   |   |   |--- temp_min >  0.86\n",
       "|   |   |   |   |   |   |--- class: 4\n",
       "|--- precipitation >  0.00\n",
       "|   |--- temp_min <= 0.31\n",
       "|   |   |--- temp_min <= 0.15\n",
       "|   |   |   |--- class: 2\n",
       "|   |   |--- temp_min >  0.15\n",
       "|   |   |   |--- class: 3\n",
       "|   |--- temp_min >  0.31\n",
       "|   |   |--- temp_max <= 0.20\n",
       "|   |   |   |--- temp_min <= 0.33\n",
       "|   |   |   |   |--- class: 3\n",
       "|   |   |   |--- temp_min >  0.33\n",
       "|   |   |   |   |--- class: 2\n",
       "|   |   |--- temp_max >  0.20\n",
       "|   |   |   |--- class: 2\n",
       "</pre>"
      ],
      "text/plain": [
       "<IPython.core.display.HTML object>"
      ]
     },
     "execution_count": 198,
     "metadata": {},
     "output_type": "execute_result"
    }
   ],
   "source": [
    "#Выведем дерево решений\n",
    "graph_data = export_text(dt, feature_names=list(X_test.columns))\n",
    "HTML('<pre>' + graph_data + '</pre>')"
   ]
  }
 ],
 "metadata": {
  "kernelspec": {
   "display_name": "Python 3",
   "language": "python",
   "name": "python3"
  },
  "language_info": {
   "codemirror_mode": {
    "name": "ipython",
    "version": 3
   },
   "file_extension": ".py",
   "mimetype": "text/x-python",
   "name": "python",
   "nbconvert_exporter": "python",
   "pygments_lexer": "ipython3",
   "version": "3.10.7"
  },
  "orig_nbformat": 4,
  "vscode": {
   "interpreter": {
    "hash": "916dbcbb3f70747c44a77c7bcd40155683ae19c65e1c03b4aa3499c5328201f1"
   }
  }
 },
 "nbformat": 4,
 "nbformat_minor": 2
}
